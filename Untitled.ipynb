{
 "cells": [
  {
   "cell_type": "code",
   "execution_count": 1,
   "id": "348dfd84",
   "metadata": {},
   "outputs": [
    {
     "name": "stdout",
     "output_type": "stream",
     "text": [
      "Randomly selected name: Bob\n"
     ]
    }
   ],
   "source": [
    "import random\n",
    "\n",
    "def pick_random_name(names):\n",
    "    random_name = random.choice(names)\n",
    "    return random_name\n",
    "\n",
    "# List of names\n",
    "name_list = [\"Alice\", \"Bob\", \"Charlie\", \"David\", \"Eve\"]\n",
    "\n",
    "# Call the function to pick a random name\n",
    "random_name = pick_random_name(name_list)\n",
    "\n",
    "# Print the randomly selected name\n",
    "print(\"Randomly selected name:\", random_name)\n"
   ]
  },
  {
   "cell_type": "code",
   "execution_count": null,
   "id": "709c74b4",
   "metadata": {},
   "outputs": [],
   "source": []
  }
 ],
 "metadata": {
  "kernelspec": {
   "display_name": "Python 3 (ipykernel)",
   "language": "python",
   "name": "python3"
  },
  "language_info": {
   "codemirror_mode": {
    "name": "ipython",
    "version": 3
   },
   "file_extension": ".py",
   "mimetype": "text/x-python",
   "name": "python",
   "nbconvert_exporter": "python",
   "pygments_lexer": "ipython3",
   "version": "3.11.3"
  }
 },
 "nbformat": 4,
 "nbformat_minor": 5
}
